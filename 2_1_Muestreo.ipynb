{
  "cells": [
    {
      "cell_type": "markdown",
      "metadata": {
        "id": "view-in-github",
        "colab_type": "text"
      },
      "source": [
        "<a href=\"https://colab.research.google.com/github/Xicotrainer/Python/blob/master/2_1_Muestreo.ipynb\" target=\"_parent\"><img src=\"https://colab.research.google.com/assets/colab-badge.svg\" alt=\"Open In Colab\"/></a>"
      ]
    },
    {
      "cell_type": "markdown",
      "metadata": {
        "id": "kkzLOvmjSbhX"
      },
      "source": [
        "# RECOMIENDAME UN LIBRO\n",
        "(**Base de datos de libros en inglés de goodreads**)\n",
        "___\n",
        "___"
      ]
    },
    {
      "cell_type": "markdown",
      "metadata": {
        "id": "CvEAa4NjSbhe"
      },
      "source": [
        "##  1 Carga de librerias y accesos.\n",
        "\n",
        "[//]: <$\\sum_{n=1}^{10}n>\n",
        "___"
      ]
    },
    {
      "cell_type": "code",
      "execution_count": null,
      "metadata": {
        "id": "ICdGDe3xSbhf"
      },
      "outputs": [],
      "source": [
        "# Usa \"%pip install <library_name>\" para instalar una libreria.\n",
        "\n",
        "import pandas as pd"
      ]
    },
    {
      "cell_type": "code",
      "source": [
        "# Acceso\n",
        "from google.colab import drive\n",
        "drive.mount('/content/drive')\n",
        "\n",
        "%cd '/content/drive/My Drive/Colab Notebooks/1_Datasets'\n",
        "%ls"
      ],
      "metadata": {
        "colab": {
          "base_uri": "https://localhost:8080/"
        },
        "id": "fjp2U8jFSxMo",
        "outputId": "3740f47e-f3ef-4ac8-e09f-227be1c7a9c0"
      },
      "execution_count": null,
      "outputs": [
        {
          "output_type": "stream",
          "name": "stdout",
          "text": [
            "Drive already mounted at /content/drive; to attempt to forcibly remount, call drive.mount(\"/content/drive\", force_remount=True).\n",
            "/content/drive/My Drive/Colab Notebooks/1_Datasets\n",
            "1.1_input_dataset.csv\n"
          ]
        }
      ]
    },
    {
      "cell_type": "code",
      "execution_count": null,
      "metadata": {
        "id": "Hi0bxIeMSbhk"
      },
      "outputs": [],
      "source": [
        "df = pd.read_csv('1.1_input_dataset.csv', index_col=0)"
      ]
    },
    {
      "cell_type": "markdown",
      "metadata": {
        "id": "Mr3iDCFsSbhl"
      },
      "source": [
        "___\n",
        "___"
      ]
    },
    {
      "cell_type": "markdown",
      "metadata": {
        "id": "kYt6pA-WSbhm"
      },
      "source": [
        "## 2 Selección de datos\n",
        "___"
      ]
    },
    {
      "cell_type": "markdown",
      "source": [
        "### 2.1 Vista preliminar"
      ],
      "metadata": {
        "id": "ZlWCKsPw-Rvr"
      }
    },
    {
      "cell_type": "code",
      "execution_count": null,
      "metadata": {
        "colab": {
          "base_uri": "https://localhost:8080/",
          "height": 534
        },
        "id": "ArQZ2pH7Sbhn",
        "outputId": "c6937253-d44e-48f7-ea6c-5ecf257b4fbf"
      },
      "outputs": [
        {
          "output_type": "execute_result",
          "data": {
            "text/plain": [
              "                                                 Name RatingDist1  \\\n",
              "Id                                                                  \n",
              "1   Harry Potter and the Half-Blood Prince (Harry ...      1:9896   \n",
              "2   Harry Potter and the Order of the Phoenix (Har...     1:12455   \n",
              "3   Harry Potter and the Sorcerer's Stone (Harry P...    1:108202   \n",
              "\n",
              "    pagesNumber RatingDist4 RatingDistTotal  PublishMonth  PublishDay  \\\n",
              "Id                                                                      \n",
              "1           652    4:556485   total:2298124            16           9   \n",
              "2           870    4:604283   total:2358637             1           9   \n",
              "3           309   4:1513191   total:6587388             1          11   \n",
              "\n",
              "          Publisher  CountsOfReview  PublishYear Language       Authors  \\\n",
              "Id                                                                        \n",
              "1   Scholastic Inc.           28062         2006      eng  J.K. Rowling   \n",
              "2   Scholastic Inc.           29770         2004      eng  J.K. Rowling   \n",
              "3    Scholastic Inc           75911         2003      eng  J.K. Rowling   \n",
              "\n",
              "    Rating RatingDist2 RatingDist5        ISBN RatingDist3  \n",
              "Id                                                          \n",
              "1     4.57     2:25317   5:1546466         NaN    3:159960  \n",
              "2     4.50     2:37005   5:1493113  0439358078    3:211781  \n",
              "3     4.47    2:130310   5:4268227         NaN    3:567458  "
            ],
            "text/html": [
              "\n",
              "  <div id=\"df-71a636cd-fad0-4528-8d2b-aecb906d3342\">\n",
              "    <div class=\"colab-df-container\">\n",
              "      <div>\n",
              "<style scoped>\n",
              "    .dataframe tbody tr th:only-of-type {\n",
              "        vertical-align: middle;\n",
              "    }\n",
              "\n",
              "    .dataframe tbody tr th {\n",
              "        vertical-align: top;\n",
              "    }\n",
              "\n",
              "    .dataframe thead th {\n",
              "        text-align: right;\n",
              "    }\n",
              "</style>\n",
              "<table border=\"1\" class=\"dataframe\">\n",
              "  <thead>\n",
              "    <tr style=\"text-align: right;\">\n",
              "      <th></th>\n",
              "      <th>Name</th>\n",
              "      <th>RatingDist1</th>\n",
              "      <th>pagesNumber</th>\n",
              "      <th>RatingDist4</th>\n",
              "      <th>RatingDistTotal</th>\n",
              "      <th>PublishMonth</th>\n",
              "      <th>PublishDay</th>\n",
              "      <th>Publisher</th>\n",
              "      <th>CountsOfReview</th>\n",
              "      <th>PublishYear</th>\n",
              "      <th>Language</th>\n",
              "      <th>Authors</th>\n",
              "      <th>Rating</th>\n",
              "      <th>RatingDist2</th>\n",
              "      <th>RatingDist5</th>\n",
              "      <th>ISBN</th>\n",
              "      <th>RatingDist3</th>\n",
              "    </tr>\n",
              "    <tr>\n",
              "      <th>Id</th>\n",
              "      <th></th>\n",
              "      <th></th>\n",
              "      <th></th>\n",
              "      <th></th>\n",
              "      <th></th>\n",
              "      <th></th>\n",
              "      <th></th>\n",
              "      <th></th>\n",
              "      <th></th>\n",
              "      <th></th>\n",
              "      <th></th>\n",
              "      <th></th>\n",
              "      <th></th>\n",
              "      <th></th>\n",
              "      <th></th>\n",
              "      <th></th>\n",
              "      <th></th>\n",
              "    </tr>\n",
              "  </thead>\n",
              "  <tbody>\n",
              "    <tr>\n",
              "      <th>1</th>\n",
              "      <td>Harry Potter and the Half-Blood Prince (Harry ...</td>\n",
              "      <td>1:9896</td>\n",
              "      <td>652</td>\n",
              "      <td>4:556485</td>\n",
              "      <td>total:2298124</td>\n",
              "      <td>16</td>\n",
              "      <td>9</td>\n",
              "      <td>Scholastic Inc.</td>\n",
              "      <td>28062</td>\n",
              "      <td>2006</td>\n",
              "      <td>eng</td>\n",
              "      <td>J.K. Rowling</td>\n",
              "      <td>4.57</td>\n",
              "      <td>2:25317</td>\n",
              "      <td>5:1546466</td>\n",
              "      <td>NaN</td>\n",
              "      <td>3:159960</td>\n",
              "    </tr>\n",
              "    <tr>\n",
              "      <th>2</th>\n",
              "      <td>Harry Potter and the Order of the Phoenix (Har...</td>\n",
              "      <td>1:12455</td>\n",
              "      <td>870</td>\n",
              "      <td>4:604283</td>\n",
              "      <td>total:2358637</td>\n",
              "      <td>1</td>\n",
              "      <td>9</td>\n",
              "      <td>Scholastic Inc.</td>\n",
              "      <td>29770</td>\n",
              "      <td>2004</td>\n",
              "      <td>eng</td>\n",
              "      <td>J.K. Rowling</td>\n",
              "      <td>4.50</td>\n",
              "      <td>2:37005</td>\n",
              "      <td>5:1493113</td>\n",
              "      <td>0439358078</td>\n",
              "      <td>3:211781</td>\n",
              "    </tr>\n",
              "    <tr>\n",
              "      <th>3</th>\n",
              "      <td>Harry Potter and the Sorcerer's Stone (Harry P...</td>\n",
              "      <td>1:108202</td>\n",
              "      <td>309</td>\n",
              "      <td>4:1513191</td>\n",
              "      <td>total:6587388</td>\n",
              "      <td>1</td>\n",
              "      <td>11</td>\n",
              "      <td>Scholastic Inc</td>\n",
              "      <td>75911</td>\n",
              "      <td>2003</td>\n",
              "      <td>eng</td>\n",
              "      <td>J.K. Rowling</td>\n",
              "      <td>4.47</td>\n",
              "      <td>2:130310</td>\n",
              "      <td>5:4268227</td>\n",
              "      <td>NaN</td>\n",
              "      <td>3:567458</td>\n",
              "    </tr>\n",
              "  </tbody>\n",
              "</table>\n",
              "</div>\n",
              "      <button class=\"colab-df-convert\" onclick=\"convertToInteractive('df-71a636cd-fad0-4528-8d2b-aecb906d3342')\"\n",
              "              title=\"Convert this dataframe to an interactive table.\"\n",
              "              style=\"display:none;\">\n",
              "        \n",
              "  <svg xmlns=\"http://www.w3.org/2000/svg\" height=\"24px\"viewBox=\"0 0 24 24\"\n",
              "       width=\"24px\">\n",
              "    <path d=\"M0 0h24v24H0V0z\" fill=\"none\"/>\n",
              "    <path d=\"M18.56 5.44l.94 2.06.94-2.06 2.06-.94-2.06-.94-.94-2.06-.94 2.06-2.06.94zm-11 1L8.5 8.5l.94-2.06 2.06-.94-2.06-.94L8.5 2.5l-.94 2.06-2.06.94zm10 10l.94 2.06.94-2.06 2.06-.94-2.06-.94-.94-2.06-.94 2.06-2.06.94z\"/><path d=\"M17.41 7.96l-1.37-1.37c-.4-.4-.92-.59-1.43-.59-.52 0-1.04.2-1.43.59L10.3 9.45l-7.72 7.72c-.78.78-.78 2.05 0 2.83L4 21.41c.39.39.9.59 1.41.59.51 0 1.02-.2 1.41-.59l7.78-7.78 2.81-2.81c.8-.78.8-2.07 0-2.86zM5.41 20L4 18.59l7.72-7.72 1.47 1.35L5.41 20z\"/>\n",
              "  </svg>\n",
              "      </button>\n",
              "      \n",
              "  <style>\n",
              "    .colab-df-container {\n",
              "      display:flex;\n",
              "      flex-wrap:wrap;\n",
              "      gap: 12px;\n",
              "    }\n",
              "\n",
              "    .colab-df-convert {\n",
              "      background-color: #E8F0FE;\n",
              "      border: none;\n",
              "      border-radius: 50%;\n",
              "      cursor: pointer;\n",
              "      display: none;\n",
              "      fill: #1967D2;\n",
              "      height: 32px;\n",
              "      padding: 0 0 0 0;\n",
              "      width: 32px;\n",
              "    }\n",
              "\n",
              "    .colab-df-convert:hover {\n",
              "      background-color: #E2EBFA;\n",
              "      box-shadow: 0px 1px 2px rgba(60, 64, 67, 0.3), 0px 1px 3px 1px rgba(60, 64, 67, 0.15);\n",
              "      fill: #174EA6;\n",
              "    }\n",
              "\n",
              "    [theme=dark] .colab-df-convert {\n",
              "      background-color: #3B4455;\n",
              "      fill: #D2E3FC;\n",
              "    }\n",
              "\n",
              "    [theme=dark] .colab-df-convert:hover {\n",
              "      background-color: #434B5C;\n",
              "      box-shadow: 0px 1px 3px 1px rgba(0, 0, 0, 0.15);\n",
              "      filter: drop-shadow(0px 1px 2px rgba(0, 0, 0, 0.3));\n",
              "      fill: #FFFFFF;\n",
              "    }\n",
              "  </style>\n",
              "\n",
              "      <script>\n",
              "        const buttonEl =\n",
              "          document.querySelector('#df-71a636cd-fad0-4528-8d2b-aecb906d3342 button.colab-df-convert');\n",
              "        buttonEl.style.display =\n",
              "          google.colab.kernel.accessAllowed ? 'block' : 'none';\n",
              "\n",
              "        async function convertToInteractive(key) {\n",
              "          const element = document.querySelector('#df-71a636cd-fad0-4528-8d2b-aecb906d3342');\n",
              "          const dataTable =\n",
              "            await google.colab.kernel.invokeFunction('convertToInteractive',\n",
              "                                                     [key], {});\n",
              "          if (!dataTable) return;\n",
              "\n",
              "          const docLinkHtml = 'Like what you see? Visit the ' +\n",
              "            '<a target=\"_blank\" href=https://colab.research.google.com/notebooks/data_table.ipynb>data table notebook</a>'\n",
              "            + ' to learn more about interactive tables.';\n",
              "          element.innerHTML = '';\n",
              "          dataTable['output_type'] = 'display_data';\n",
              "          await google.colab.output.renderOutput(dataTable, element);\n",
              "          const docLink = document.createElement('div');\n",
              "          docLink.innerHTML = docLinkHtml;\n",
              "          element.appendChild(docLink);\n",
              "        }\n",
              "      </script>\n",
              "    </div>\n",
              "  </div>\n",
              "  "
            ]
          },
          "metadata": {},
          "execution_count": 4
        }
      ],
      "source": [
        "df.head(3)"
      ]
    },
    {
      "cell_type": "code",
      "execution_count": null,
      "metadata": {
        "colab": {
          "base_uri": "https://localhost:8080/"
        },
        "id": "lxPiRfFISbhs",
        "outputId": "8ac35acc-420a-4b48-80e4-400975720b77"
      },
      "outputs": [
        {
          "output_type": "execute_result",
          "data": {
            "text/plain": [
              "eng      15988\n",
              "en-US     2456\n",
              "spa        637\n",
              "en-GB      425\n",
              "fre        331\n",
              "ger        209\n",
              "jpn         54\n",
              "ita         36\n",
              "mul         29\n",
              "por         24\n",
              "zho         17\n",
              "grc         12\n",
              "en-CA       11\n",
              "kor         10\n",
              "rus          7\n",
              "swe          6\n",
              "ara          6\n",
              "lat          5\n",
              "nl           5\n",
              "enm          5\n",
              "per          3\n",
              "tur          3\n",
              "wel          2\n",
              "nor          1\n",
              "glg          1\n",
              "srp          1\n",
              "gla          1\n",
              "lit          1\n",
              "msa          1\n",
              "pol          1\n",
              "gle          1\n",
              "cat          1\n",
              "afr          1\n",
              "ind          1\n",
              "frs          1\n",
              "sco          1\n",
              "Name: Language, dtype: int64"
            ]
          },
          "metadata": {},
          "execution_count": 5
        }
      ],
      "source": [
        "df['Language'].value_counts()"
      ]
    },
    {
      "cell_type": "code",
      "source": [
        " mask = ((df['Language'] == 'eng') | (df['Language'] == 'en-US') | (df['Language'] == 'en-Gb') | (df['Language'] == 'en-CA'))\n",
        " df = df[mask]"
      ],
      "metadata": {
        "id": "UIhgSNfm-lpg"
      },
      "execution_count": null,
      "outputs": []
    },
    {
      "cell_type": "code",
      "execution_count": null,
      "metadata": {
        "colab": {
          "base_uri": "https://localhost:8080/"
        },
        "id": "TgAuY1E2Sbhp",
        "outputId": "277cd49d-cfea-4ad6-be10-5c4e1d205f85"
      },
      "outputs": [
        {
          "output_type": "stream",
          "name": "stdout",
          "text": [
            "<class 'pandas.core.frame.DataFrame'>\n",
            "Int64Index: 18455 entries, 1 to 99986\n",
            "Data columns (total 17 columns):\n",
            " #   Column           Non-Null Count  Dtype  \n",
            "---  ------           --------------  -----  \n",
            " 0   Name             18455 non-null  object \n",
            " 1   RatingDist1      18455 non-null  object \n",
            " 2   pagesNumber      18455 non-null  int64  \n",
            " 3   RatingDist4      18455 non-null  object \n",
            " 4   RatingDistTotal  18455 non-null  object \n",
            " 5   PublishMonth     18455 non-null  int64  \n",
            " 6   PublishDay       18455 non-null  int64  \n",
            " 7   Publisher        18302 non-null  object \n",
            " 8   CountsOfReview   18455 non-null  int64  \n",
            " 9   PublishYear      18455 non-null  int64  \n",
            " 10  Language         18455 non-null  object \n",
            " 11  Authors          18455 non-null  object \n",
            " 12  Rating           18455 non-null  float64\n",
            " 13  RatingDist2      18455 non-null  object \n",
            " 14  RatingDist5      18455 non-null  object \n",
            " 15  ISBN             18174 non-null  object \n",
            " 16  RatingDist3      18455 non-null  object \n",
            "dtypes: float64(1), int64(5), object(11)\n",
            "memory usage: 2.5+ MB\n"
          ]
        }
      ],
      "source": [
        "df.info()"
      ]
    },
    {
      "cell_type": "markdown",
      "metadata": {
        "id": "Dd15hQCzSbht"
      },
      "source": [
        ">**Revisión preliminar**.\n",
        " \n",
        "Del data set orignal se elegieron 18 mil como objeto de estudio (títulos en inglés).\n",
        " \n",
        "De las 17 columnas:\n",
        "* 7 pertenecen al rating, no se conservará el detalle.\n",
        "* 3 corresponden a la fehca de publicación, solo se conservará el año."
      ]
    },
    {
      "cell_type": "markdown",
      "metadata": {
        "id": "YYyEQL_SSbhu"
      },
      "source": [
        "___\n",
        "___"
      ]
    },
    {
      "cell_type": "markdown",
      "metadata": {
        "id": "q0EoXwq_Sbhw"
      },
      "source": [
        "### 2.2 Selección de columnas"
      ]
    },
    {
      "cell_type": "code",
      "execution_count": null,
      "metadata": {
        "id": "MX8rDZlTSbhx"
      },
      "outputs": [],
      "source": [
        "df = df[['ISBN', 'Name', 'Authors', 'Publisher', 'Rating', 'pagesNumber', 'CountsOfReview', 'PublishYear']]"
      ]
    },
    {
      "cell_type": "code",
      "execution_count": null,
      "metadata": {
        "colab": {
          "base_uri": "https://localhost:8080/",
          "height": 175
        },
        "id": "R6nNJVU2Sbhx",
        "outputId": "1d51bb71-6775-4305-e9c4-81af4b8719d9"
      },
      "outputs": [
        {
          "output_type": "execute_result",
          "data": {
            "text/plain": [
              "             ISBN                                               Name  \\\n",
              "Id                                                                     \n",
              "22496  0922729433  Fallen Angels and the Origins of Evil: Why Chu...   \n",
              "38513  0553298550               The Wedding (Sweet Valley High, #98)   \n",
              "91885  0380730863        A Medicine for Melancholy and Other Stories   \n",
              "\n",
              "                       Authors                Publisher  Rating  pagesNumber  \\\n",
              "Id                                                                             \n",
              "22496  Elizabeth Clare Prophet  Summit University Press    3.66          524   \n",
              "38513          Francine Pascal             Bantam Books    3.53          217   \n",
              "91885             Ray Bradbury               Avon Books    4.16          307   \n",
              "\n",
              "       CountsOfReview  PublishYear  \n",
              "Id                                  \n",
              "22496              20         2000  \n",
              "38513              11         1994  \n",
              "91885             558         1998  "
            ],
            "text/html": [
              "\n",
              "  <div id=\"df-e530ef56-1ce3-47b5-8217-f16f58749096\">\n",
              "    <div class=\"colab-df-container\">\n",
              "      <div>\n",
              "<style scoped>\n",
              "    .dataframe tbody tr th:only-of-type {\n",
              "        vertical-align: middle;\n",
              "    }\n",
              "\n",
              "    .dataframe tbody tr th {\n",
              "        vertical-align: top;\n",
              "    }\n",
              "\n",
              "    .dataframe thead th {\n",
              "        text-align: right;\n",
              "    }\n",
              "</style>\n",
              "<table border=\"1\" class=\"dataframe\">\n",
              "  <thead>\n",
              "    <tr style=\"text-align: right;\">\n",
              "      <th></th>\n",
              "      <th>ISBN</th>\n",
              "      <th>Name</th>\n",
              "      <th>Authors</th>\n",
              "      <th>Publisher</th>\n",
              "      <th>Rating</th>\n",
              "      <th>pagesNumber</th>\n",
              "      <th>CountsOfReview</th>\n",
              "      <th>PublishYear</th>\n",
              "    </tr>\n",
              "    <tr>\n",
              "      <th>Id</th>\n",
              "      <th></th>\n",
              "      <th></th>\n",
              "      <th></th>\n",
              "      <th></th>\n",
              "      <th></th>\n",
              "      <th></th>\n",
              "      <th></th>\n",
              "      <th></th>\n",
              "    </tr>\n",
              "  </thead>\n",
              "  <tbody>\n",
              "    <tr>\n",
              "      <th>22496</th>\n",
              "      <td>0922729433</td>\n",
              "      <td>Fallen Angels and the Origins of Evil: Why Chu...</td>\n",
              "      <td>Elizabeth Clare Prophet</td>\n",
              "      <td>Summit University Press</td>\n",
              "      <td>3.66</td>\n",
              "      <td>524</td>\n",
              "      <td>20</td>\n",
              "      <td>2000</td>\n",
              "    </tr>\n",
              "    <tr>\n",
              "      <th>38513</th>\n",
              "      <td>0553298550</td>\n",
              "      <td>The Wedding (Sweet Valley High, #98)</td>\n",
              "      <td>Francine Pascal</td>\n",
              "      <td>Bantam Books</td>\n",
              "      <td>3.53</td>\n",
              "      <td>217</td>\n",
              "      <td>11</td>\n",
              "      <td>1994</td>\n",
              "    </tr>\n",
              "    <tr>\n",
              "      <th>91885</th>\n",
              "      <td>0380730863</td>\n",
              "      <td>A Medicine for Melancholy and Other Stories</td>\n",
              "      <td>Ray Bradbury</td>\n",
              "      <td>Avon Books</td>\n",
              "      <td>4.16</td>\n",
              "      <td>307</td>\n",
              "      <td>558</td>\n",
              "      <td>1998</td>\n",
              "    </tr>\n",
              "  </tbody>\n",
              "</table>\n",
              "</div>\n",
              "      <button class=\"colab-df-convert\" onclick=\"convertToInteractive('df-e530ef56-1ce3-47b5-8217-f16f58749096')\"\n",
              "              title=\"Convert this dataframe to an interactive table.\"\n",
              "              style=\"display:none;\">\n",
              "        \n",
              "  <svg xmlns=\"http://www.w3.org/2000/svg\" height=\"24px\"viewBox=\"0 0 24 24\"\n",
              "       width=\"24px\">\n",
              "    <path d=\"M0 0h24v24H0V0z\" fill=\"none\"/>\n",
              "    <path d=\"M18.56 5.44l.94 2.06.94-2.06 2.06-.94-2.06-.94-.94-2.06-.94 2.06-2.06.94zm-11 1L8.5 8.5l.94-2.06 2.06-.94-2.06-.94L8.5 2.5l-.94 2.06-2.06.94zm10 10l.94 2.06.94-2.06 2.06-.94-2.06-.94-.94-2.06-.94 2.06-2.06.94z\"/><path d=\"M17.41 7.96l-1.37-1.37c-.4-.4-.92-.59-1.43-.59-.52 0-1.04.2-1.43.59L10.3 9.45l-7.72 7.72c-.78.78-.78 2.05 0 2.83L4 21.41c.39.39.9.59 1.41.59.51 0 1.02-.2 1.41-.59l7.78-7.78 2.81-2.81c.8-.78.8-2.07 0-2.86zM5.41 20L4 18.59l7.72-7.72 1.47 1.35L5.41 20z\"/>\n",
              "  </svg>\n",
              "      </button>\n",
              "      \n",
              "  <style>\n",
              "    .colab-df-container {\n",
              "      display:flex;\n",
              "      flex-wrap:wrap;\n",
              "      gap: 12px;\n",
              "    }\n",
              "\n",
              "    .colab-df-convert {\n",
              "      background-color: #E8F0FE;\n",
              "      border: none;\n",
              "      border-radius: 50%;\n",
              "      cursor: pointer;\n",
              "      display: none;\n",
              "      fill: #1967D2;\n",
              "      height: 32px;\n",
              "      padding: 0 0 0 0;\n",
              "      width: 32px;\n",
              "    }\n",
              "\n",
              "    .colab-df-convert:hover {\n",
              "      background-color: #E2EBFA;\n",
              "      box-shadow: 0px 1px 2px rgba(60, 64, 67, 0.3), 0px 1px 3px 1px rgba(60, 64, 67, 0.15);\n",
              "      fill: #174EA6;\n",
              "    }\n",
              "\n",
              "    [theme=dark] .colab-df-convert {\n",
              "      background-color: #3B4455;\n",
              "      fill: #D2E3FC;\n",
              "    }\n",
              "\n",
              "    [theme=dark] .colab-df-convert:hover {\n",
              "      background-color: #434B5C;\n",
              "      box-shadow: 0px 1px 3px 1px rgba(0, 0, 0, 0.15);\n",
              "      filter: drop-shadow(0px 1px 2px rgba(0, 0, 0, 0.3));\n",
              "      fill: #FFFFFF;\n",
              "    }\n",
              "  </style>\n",
              "\n",
              "      <script>\n",
              "        const buttonEl =\n",
              "          document.querySelector('#df-e530ef56-1ce3-47b5-8217-f16f58749096 button.colab-df-convert');\n",
              "        buttonEl.style.display =\n",
              "          google.colab.kernel.accessAllowed ? 'block' : 'none';\n",
              "\n",
              "        async function convertToInteractive(key) {\n",
              "          const element = document.querySelector('#df-e530ef56-1ce3-47b5-8217-f16f58749096');\n",
              "          const dataTable =\n",
              "            await google.colab.kernel.invokeFunction('convertToInteractive',\n",
              "                                                     [key], {});\n",
              "          if (!dataTable) return;\n",
              "\n",
              "          const docLinkHtml = 'Like what you see? Visit the ' +\n",
              "            '<a target=\"_blank\" href=https://colab.research.google.com/notebooks/data_table.ipynb>data table notebook</a>'\n",
              "            + ' to learn more about interactive tables.';\n",
              "          element.innerHTML = '';\n",
              "          dataTable['output_type'] = 'display_data';\n",
              "          await google.colab.output.renderOutput(dataTable, element);\n",
              "          const docLink = document.createElement('div');\n",
              "          docLink.innerHTML = docLinkHtml;\n",
              "          element.appendChild(docLink);\n",
              "        }\n",
              "      </script>\n",
              "    </div>\n",
              "  </div>\n",
              "  "
            ]
          },
          "metadata": {},
          "execution_count": 9
        }
      ],
      "source": [
        "df.sample(3)"
      ]
    },
    {
      "cell_type": "markdown",
      "metadata": {
        "id": "HTvTbIvoSbhz"
      },
      "source": [
        "> **Reusltado del muestreo.**\n",
        "\n",
        "El dataset se redujo a 8 variables con 18 mil registros. "
      ]
    },
    {
      "cell_type": "code",
      "source": [
        "df = df.reset_index()\n",
        "df.to_csv('1.2_sample_dataset.csv')"
      ],
      "metadata": {
        "id": "HSjSToi4Btyk"
      },
      "execution_count": null,
      "outputs": []
    },
    {
      "cell_type": "markdown",
      "metadata": {
        "id": "Cg1SyGzcSbiA"
      },
      "source": [
        "___\n",
        "___"
      ]
    }
  ],
  "metadata": {
    "interpreter": {
      "hash": "916dbcbb3f70747c44a77c7bcd40155683ae19c65e1c03b4aa3499c5328201f1"
    },
    "kernelspec": {
      "display_name": "Python 3.8.10 64-bit",
      "language": "python",
      "name": "python3"
    },
    "language_info": {
      "codemirror_mode": {
        "name": "ipython",
        "version": 3
      },
      "file_extension": ".py",
      "mimetype": "text/x-python",
      "name": "python",
      "nbconvert_exporter": "python",
      "pygments_lexer": "ipython3",
      "version": "3.8.10"
    },
    "orig_nbformat": 4,
    "colab": {
      "name": "2.1_Muestreo.ipynb",
      "provenance": [],
      "collapsed_sections": [],
      "include_colab_link": true
    }
  },
  "nbformat": 4,
  "nbformat_minor": 0
}